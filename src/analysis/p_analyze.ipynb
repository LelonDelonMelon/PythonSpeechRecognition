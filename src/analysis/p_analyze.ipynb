{
 "cells": [
  {
   "cell_type": "code",
   "execution_count": null,
   "metadata": {},
   "outputs": [],
   "source": [
    "durationCheck = 10.      # Only consider files with 10 or more seconds of audio.\n",
    "deltaT        = 0.2      # Audio frame size is 0.2 seconds.\n",
    "noisy         = 0.1      # This sets the limit for static, i.e. pauses in speech.\n",
    "lim1 = 10; lim2 = 410    # Lower and upper frequencies. \n",
    "                         # For the above parameters and 16 kHz sampling, this range is about 50 - 2000 Hz.  \n",
    "\n",
    "audioType  = \".flac\"               # Flac files. \n",
    "path       = \"LibriSpeech/\"        # Path where audio files are located.\n",
    "trainSet   = \"train-clean/\"        # Training set.\n",
    "cvSet      = \"cv-clean/\"           # Cross-Validation set.\n",
    "tstSet     = \"test-clean/\"         # Test set. \n",
    "maxminFile = \"min_max_values.dat\"  # File to store max and min values for each frequency bin.\n",
    "outfolder  = \"networks/\"           # Folder to store trained networks.\n",
    "stem       = \"nn\"                  # Output network filename stem.    \n",
    "\n",
    "# These are the speakers.\n",
    "# Female: 19, 32, 39, 40, 83\n",
    "# Male: 26, 27, 78, 405, 196\n",
    "speakers = [\"19/\",\n",
    "            \"26/\",\n",
    "            \"32/\",\n",
    "            \"27/\",\n",
    "            \"39/\",\n",
    "            \"78/\",\n",
    "            \"40/\",\n",
    "            \"405/\", \n",
    "            \"83/\",\n",
    "            \"196/\"]\n",
    "\n",
    "numFeatures = lim2-lim1\n",
    "numSpeakers = len(speakers)"
   ]
  },
  {
   "cell_type": "code",
   "execution_count": 2,
   "metadata": {},
   "outputs": [],
   "source": [
    "import librosa\n",
    "import os\n",
    "import math\n",
    "import json"
   ]
  },
  {
   "cell_type": "code",
   "execution_count": 3,
   "metadata": {},
   "outputs": [],
   "source": [
    "\n",
    "DATASET_PATH = \"../LibriSpeech/train-clean\"\n",
    "UNSEENDATA_PATH = \"../LibriSpeech/test-clean\"\n",
    "JSON_PATH = \"train_data.json\"\n",
    "SAMPLE_RATE = 44100\n",
    "DURATION = 1\n",
    "SAMPLES_PER_TRACK = SAMPLE_RATE * DURATION"
   ]
  },
  {
   "cell_type": "code",
   "execution_count": 4,
   "metadata": {},
   "outputs": [],
   "source": [
    "def save_mfcc_train(dataset_path, json_path,n_mfcc=13,n_fft=2048,hop_length=512,num_segments=10):\n",
    "    # dictionary to store data\n",
    "    data = {\n",
    "        \"mapping\": [],\n",
    "        \"mfcc\": [],\n",
    "        \"labels\": []\n",
    "    }\n",
    "    num_samples_per_segment = int(SAMPLES_PER_TRACK / num_segments)\n",
    "    expected_num_nfcc_vectors_per_segment = math.ceil(num_samples_per_segment / hop_length) # 1.2 -> 2\n",
    "    # loop through all the chunks\n",
    "    for i, (dirpath, dirnames, filenames) in enumerate(os.walk(dataset_path)):\n",
    "        \n",
    "        # ensure that we're not at root level\n",
    "        if dirpath is not dataset_path:\n",
    "            \n",
    "            # save the semantic label\n",
    "            dirpath_components = dirpath.split(\"/\")\n",
    "            semantic_label = dirpath_components[-1]\n",
    "            data[\"mapping\"].append(semantic_label)\n",
    "            print(\"\\nProcessing {}\".format(semantic_label))\n",
    "            # process files for specific human\n",
    "            for f in filenames:\n",
    "                # load audio file\n",
    "                file_path = os.path.join(dirpath,f)\n",
    "                signal, sr = librosa.load(file_path,sr=sr)\n",
    "\n",
    "                # process segments extracting mfcc and storing data\n",
    "                for s in range(num_segments):\n",
    "                    start_sample = num_samples_per_segment * s\n",
    "                    finish_sample = start_sample + num_samples_per_segment\n",
    "                    \n",
    "                    mfcc = librosa.feature.mfcc(y=signal[start_sample:finish_sample], \n",
    "                                                sr=SAMPLE_RATE, \n",
    "                                                n_fft=n_fft, \n",
    "                                                n_mfcc=n_mfcc, \n",
    "                                                hop_length=hop_length)\n",
    "                    mfcc = mfcc.T\n",
    "\n",
    "                    # Store mfcc for segment if it has the expected length\n",
    "                    if len(mfcc) == expected_num_nfcc_vectors_per_segment:\n",
    "                        data[\"mfcc\"].append(mfcc.tolist())\n",
    "                        data[\"labels\"].append(i-1)\n",
    "                        print(\"{}, segment:{}\".format(file_path,s))\n",
    "    with open(json_path,\"w\") as fp:\n",
    "        json.dump(data,fp, indent=4)"
   ]
  },
  {
   "cell_type": "code",
   "execution_count": null,
   "metadata": {},
   "outputs": [],
   "source": [
    "save_mfcc_train()"
   ]
  },
  {
   "cell_type": "code",
   "execution_count": null,
   "metadata": {},
   "outputs": [],
   "source": []
  },
  {
   "cell_type": "code",
   "execution_count": null,
   "metadata": {},
   "outputs": [],
   "source": []
  },
  {
   "cell_type": "code",
   "execution_count": null,
   "metadata": {},
   "outputs": [],
   "source": []
  },
  {
   "cell_type": "code",
   "execution_count": null,
   "metadata": {},
   "outputs": [],
   "source": []
  }
 ],
 "metadata": {
  "kernelspec": {
   "display_name": "env",
   "language": "python",
   "name": "python3"
  },
  "language_info": {
   "codemirror_mode": {
    "name": "ipython",
    "version": 3
   },
   "file_extension": ".py",
   "mimetype": "text/x-python",
   "name": "python",
   "nbconvert_exporter": "python",
   "pygments_lexer": "ipython3",
   "version": "3.10.10"
  },
  "orig_nbformat": 4
 },
 "nbformat": 4,
 "nbformat_minor": 2
}
